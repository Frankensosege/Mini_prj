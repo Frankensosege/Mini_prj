{
 "cells": [
  {
   "cell_type": "code",
   "execution_count": 1,
   "id": "e93b66cf",
   "metadata": {},
   "outputs": [],
   "source": [
    "# 라이브러리 import 영역\n",
    "\n",
    "import pandas as pd\n",
    "import numpy as np\n",
    "import matplotlib.pyplot as plt"
   ]
  },
  {
   "cell_type": "code",
   "execution_count": 3,
   "id": "d15993c1",
   "metadata": {},
   "outputs": [],
   "source": [
    "def draw_graph(df1, df2):\n",
    "    # 장준혁씨 작업부분\n",
    "    # graph 그릴 부분을 두개 만들고 df1, df2로 받아 각각 영역에 그리 도록 작성\n",
    "    # df1, df2 공히 X 축 데이터는 index로 잡고 Y 축은 ['cat'] 으로 작성\n",
    "    # plt 개체를 return\n",
    "    pass"
   ]
  },
  {
   "cell_type": "code",
   "execution_count": null,
   "id": "8659ee9b",
   "metadata": {},
   "outputs": [],
   "source": [
    "def get_confDF(filename):\n",
    "    pass"
   ]
  },
  {
   "cell_type": "code",
   "execution_count": null,
   "id": "20057dcd",
   "metadata": {},
   "outputs": [],
   "source": [
    "# 데이터를 읽어 df1, df2 생성 부분\n",
    "\n",
    "graph = draw_graph(df1, df2)\n",
    "graph.show()"
   ]
  }
 ],
 "metadata": {
  "kernelspec": {
   "display_name": "Python 3 (ipykernel)",
   "language": "python",
   "name": "python3"
  },
  "language_info": {
   "codemirror_mode": {
    "name": "ipython",
    "version": 3
   },
   "file_extension": ".py",
   "mimetype": "text/x-python",
   "name": "python",
   "nbconvert_exporter": "python",
   "pygments_lexer": "ipython3",
   "version": "3.9.13"
  }
 },
 "nbformat": 4,
 "nbformat_minor": 5
}
